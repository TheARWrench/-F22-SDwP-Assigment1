{
 "cells": [
  {
   "cell_type": "markdown",
   "metadata": {},
   "source": [
    "## Task #1\n",
    "\n",
    "Create a function decorator that calculates function execution time and the number of times the decorated function was called (function call trace). Make sure that your implementation works for multiple functions. Below you can see an example of the overall python program expected behavior and implementation script:"
   ]
  },
  {
   "cell_type": "code",
   "execution_count": null,
   "metadata": {},
   "outputs": [],
   "source": [
    "class decoratorClass:\n",
    "    def __init__(self,func):\n",
    "        self.func=func\n",
    "        self.counter=0\n",
    "    \n",
    "    def __call__(self,*args):\n",
    "        "
   ]
  }
 ],
 "metadata": {
  "kernelspec": {
   "display_name": "Python 3.9.7 ('base')",
   "language": "python",
   "name": "python3"
  },
  "language_info": {
   "name": "python",
   "version": "3.9.7"
  },
  "orig_nbformat": 4,
  "vscode": {
   "interpreter": {
    "hash": "ad2bdc8ecc057115af97d19610ffacc2b4e99fae6737bb82f5d7fb13d2f2c186"
   }
  }
 },
 "nbformat": 4,
 "nbformat_minor": 2
}
